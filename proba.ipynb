{
 "cells": [
  {
   "cell_type": "code",
   "execution_count": 12,
   "metadata": {},
   "outputs": [],
   "source": [
    "import numpy as np\n",
    "\n",
    "def t_min_max_cover(weights):\n",
    "    # Create weighted adjacency matrix\n",
    "    n = len(weights)\n",
    "    adj_matrix = np.zeros((n, n))\n",
    "    for i in range(n):\n",
    "        for j in range(n):\n",
    "            if i != j:\n",
    "                adj_matrix[i][j] = weights[i] + weights[j]\n",
    "    \n",
    "    # Initialize partitions and weights\n",
    "    A = {0}\n",
    "    B = set(range(1, n))\n",
    "    total_weight = sum(weights)\n",
    "    target_weight = total_weight / 2\n",
    "    \n",
    "    # Iteratively add nodes to partitions\n",
    "    while sum([weights[i] for i in A]) < target_weight:\n",
    "        # Find nodes adjacent to partition A and not in partition B\n",
    "        candidates = [j for j in B if adj_matrix[list(A), j].sum() > 0]\n",
    "        # Choose node with highest weight and add to partition A\n",
    "        node = max(candidates, key=lambda x: weights[x])\n",
    "        A.add(node)\n",
    "        B.remove(node)\n",
    "        \n",
    "    while sum([weights[i] for i in B]) < target_weight:\n",
    "        # Find nodes adjacent to partition B and not in partition A\n",
    "        candidates = [j for j in A if adj_matrix[list(B), j].sum() > 0]\n",
    "        # Choose node with highest weight and add to partition B\n",
    "        node = max(candidates, key=lambda x: weights[x])\n",
    "        B.add(node)\n",
    "        A.remove(node)\n",
    "        \n",
    "    return A, B\n"
   ]
  },
  {
   "cell_type": "code",
   "execution_count": 13,
   "metadata": {},
   "outputs": [],
   "source": [
    "A, B = t_min_max_cover([1, 3, 1, 2, 2])"
   ]
  },
  {
   "cell_type": "code",
   "execution_count": 14,
   "metadata": {},
   "outputs": [
    {
     "name": "stdout",
     "output_type": "stream",
     "text": [
      "{0, 3}\n",
      "{1, 2, 4}\n"
     ]
    }
   ],
   "source": [
    "print(A)\n",
    "print(B)"
   ]
  },
  {
   "cell_type": "code",
   "execution_count": 15,
   "metadata": {},
   "outputs": [
    {
     "data": {
      "image/png": "[encoded data removed]",
      "text/plain": [
       "<Figure size 432x288 with 1 Axes>"
      ]
     },
     "metadata": {},
     "output_type": "display_data"
    }
   ],
   "source": [
    "import networkx as nx\n",
    "import matplotlib.pyplot as plt\n",
    "\n",
    "# Define graph\n",
    "G = nx.Graph()\n",
    "G.add_nodes_from([0, 1, 2, 3, 4])\n",
    "G.add_weighted_edges_from([(0, 1, 1), (0, 2, 1), (0, 3, 2), (0, 4, 2), (1, 2, 4), (1, 3, 5), (1, 4, 5), (2, 3, 3), (2, 4, 3), (3, 4, 4)])\n",
    "\n",
    "# Draw graph\n",
    "pos = nx.circular_layout(G)\n",
    "labels = {i: w for i, w in enumerate([1, 3, 1, 2, 2])}\n",
    "nx.draw_networkx_nodes(G, pos, node_color='lightblue')\n",
    "nx.draw_networkx_labels(G, pos, labels)\n",
    "nx.draw_networkx_edges(G, pos)\n",
    "plt.axis('off')\n",
    "plt.show()\n"
   ]
  },
  {
   "cell_type": "code",
   "execution_count": 16,
   "metadata": {},
   "outputs": [
    {
     "data": {
      "image/png": "[encoded data removed]",
      "text/plain": [
       "<Figure size 432x288 with 1 Axes>"
      ]
     },
     "metadata": {},
     "output_type": "display_data"
    }
   ],
   "source": [
    "# Get partitioned nodes\n",
    "A, B = t_min_max_cover([1, 3, 1, 2, 2])\n",
    "\n",
    "# Create subgraphs for each partition\n",
    "subgraph_A = G.subgraph(A)\n",
    "subgraph_B = G.subgraph(B)\n",
    "\n",
    "# Draw subgraphs with different colors\n",
    "pos = nx.circular_layout(G)\n",
    "labels = {i: w for i, w in enumerate([1, 3, 1, 2, 2])}\n",
    "nx.draw_networkx_nodes(subgraph_A, pos, node_color='red')\n",
    "nx.draw_networkx_nodes(subgraph_B, pos, node_color='blue')\n",
    "nx.draw_networkx_labels(G, pos, labels)\n",
    "nx.draw_networkx_edges(G, pos)\n",
    "plt.axis('off')\n",
    "plt.show()\n"
   ]
  },
  {
   "cell_type": "code",
   "execution_count": 17,
   "metadata": {},
   "outputs": [],
   "source": [
    "import math\n",
    "\n",
    "def t_min_max_cover(weights):\n",
    "    n = len(weights)\n",
    "    t = math.log(n)\n",
    "    \n",
    "    # Construct bipartite graph\n",
    "    A = set()\n",
    "    B = set()\n",
    "    for i, w in enumerate(weights):\n",
    "        if sum(A) < sum(B) or (sum(A) == sum(B) and len(A) <= len(B)):\n",
    "            A.add(w)\n",
    "        else:\n",
    "            B.add(w)\n",
    "    \n",
    "    # Swap nodes between partitions to minimize weight\n",
    "    while True:\n",
    "        a_min = min(A)\n",
    "        b_max = max(B)\n",
    "        if b_max - a_min <= t:\n",
    "            break\n",
    "        A.remove(a_min)\n",
    "        B.remove(b_max)\n",
    "        A.add(b_max)\n",
    "        B.add(a_min)\n",
    "    \n",
    "    return A, B\n"
   ]
  },
  {
   "cell_type": "code",
   "execution_count": 18,
   "metadata": {},
   "outputs": [
    {
     "name": "stdout",
     "output_type": "stream",
     "text": [
      "{2, 3} {1, 2}\n"
     ]
    }
   ],
   "source": [
    "weights = [1, 3, 1, 2, 2]\n",
    "partition1, partition2 = t_min_max_cover(weights)\n",
    "print(partition1, partition2)\n"
   ]
  },
  {
   "cell_type": "code",
   "execution_count": 20,
   "metadata": {},
   "outputs": [
    {
     "data": {
      "image/png": "[encoded data removed]",
      "text/plain": [
       "<Figure size 432x288 with 1 Axes>"
      ]
     },
     "metadata": {},
     "output_type": "display_data"
    }
   ],
   "source": [
    "import math\n",
    "import networkx as nx\n",
    "import matplotlib.pyplot as plt\n",
    "\n",
    "def t_min_max_cover(weights):\n",
    "    n = len(weights)\n",
    "    t = math.log(n)\n",
    "    \n",
    "    # Construct bipartite graph\n",
    "    G = nx.Graph()\n",
    "    partition_A = set()\n",
    "    partition_B = set()\n",
    "    for i, w in enumerate(weights):\n",
    "        if sum(partition_A) < sum(partition_B) or (sum(partition_A) == sum(partition_B) and len(partition_A) <= len(partition_B)):\n",
    "            G.add_node(i, bipartite=0, weight=w)\n",
    "            partition_A.add(i)\n",
    "        else:\n",
    "            G.add_node(i, bipartite=1, weight=w)\n",
    "            partition_B.add(i)\n",
    "    \n",
    "    # Add edges between partitions\n",
    "    for node in G.nodes():\n",
    "        if G.nodes[node]['bipartite'] == 0:\n",
    "            for neighbor in G.neighbors(node):\n",
    "                if G.nodes[neighbor]['bipartite'] == 1:\n",
    "                    G.add_edge(node, neighbor)\n",
    "    \n",
    "    # Swap nodes between partitions to minimize weight\n",
    "    while True:\n",
    "        a_min = min(partition_A, key=lambda x: G.nodes[x]['weight'])\n",
    "        b_max = max(partition_B, key=lambda x: G.nodes[x]['weight'])\n",
    "        if G.nodes[b_max]['weight'] - G.nodes[a_min]['weight'] <= t:\n",
    "            break\n",
    "        partition_A.remove(a_min)\n",
    "        partition_B.remove(b_max)\n",
    "        partition_A.add(b_max)\n",
    "        partition_B.add(a_min)\n",
    "    \n",
    "    return G, partition_A, partition_B\n",
    "\n",
    "# Example usage\n",
    "weights = [1, 3, 1, 2, 2]\n",
    "G, partition1, partition2 = t_min_max_cover(weights)\n",
    "\n",
    "# Draw graph with partitions\n",
    "pos = nx.bipartite_layout(G, partition1)\n",
    "subgraph1 = G.subgraph(partition1)\n",
    "subgraph2 = G.subgraph(partition2)\n",
    "nx.draw_networkx_nodes(subgraph1, pos, node_color='r')\n",
    "nx.draw_networkx_nodes(subgraph2, pos, node_color='b')\n",
    "nx.draw_networkx_edges(G, pos, edgelist=G.edges(), width=1)\n",
    "nx.draw_networkx_labels(G, pos, labels={node: G.nodes[node]['weight'] for node in G.nodes()})\n",
    "plt.axis('off')\n",
    "plt.show()\n"
   ]
  },
  {
   "cell_type": "code",
   "execution_count": 21,
   "metadata": {},
   "outputs": [
    {
     "name": "stdout",
     "output_type": "stream",
     "text": [
      "Subgraph 1:\n",
      "Nodes: {1, 3, 4}\n",
      "Edges:\n",
      " [[0 0 0]\n",
      " [0 0 0]\n",
      " [0 0 0]]\n",
      "\n",
      "Subgraph 2:\n",
      "Nodes: {0, 2, 3, 4}\n",
      "Edges:\n",
      " [[0 1 0 0]\n",
      " [1 0 1 1]\n",
      " [0 1 0 0]\n",
      " [0 1 0 0]]\n"
     ]
    }
   ],
   "source": [
    "import numpy as np\n",
    "\n",
    "# Define the graph as an adjacency matrix\n",
    "adj_matrix = np.array([\n",
    "    [0, 1, 1, 0, 0],\n",
    "    [1, 0, 0, 0, 0],\n",
    "    [1, 0, 0, 1, 1],\n",
    "    [0, 0, 1, 0, 0],\n",
    "    [0, 0, 1, 0, 0]\n",
    "])\n",
    "\n",
    "# Define the node weights\n",
    "node_weights = [1, 3, 1, 2, 2]\n",
    "\n",
    "# Sort the nodes in descending order of their weights\n",
    "sorted_nodes = sorted(range(len(node_weights)), key=lambda i: node_weights[i], reverse=True)\n",
    "\n",
    "# Initialize sets A and B\n",
    "set_a = set([sorted_nodes[0]])\n",
    "set_b = set(sorted_nodes[1:])\n",
    "\n",
    "# Iterate over the remaining nodes and assign them to set A or set B\n",
    "for node in sorted_nodes[1:]:\n",
    "    # Calculate the weight difference if we add the node to set A or set B\n",
    "    weight_diff_a = abs(sum([node_weights[i] for i in set_a]) + node_weights[node] - sum([node_weights[i] for i in set_b]))\n",
    "    weight_diff_b = abs(sum([node_weights[i] for i in set_b]) + node_weights[node] - sum([node_weights[i] for i in set_a]))\n",
    "    \n",
    "    # Assign the node to the set that results in the minimum weight difference\n",
    "    if weight_diff_a <= weight_diff_b:\n",
    "        set_a.add(node)\n",
    "    else:\n",
    "        set_b.add(node)\n",
    "\n",
    "# Build the subgraphs\n",
    "subgraph_1 = adj_matrix[np.ix_(list(set_a), list(set_a))]\n",
    "subgraph_2 = adj_matrix[np.ix_(list(set_b), list(set_b))]\n",
    "\n",
    "print(\"Subgraph 1:\")\n",
    "print(\"Nodes:\", set_a)\n",
    "print(\"Edges:\\n\", subgraph_1)\n",
    "\n",
    "print(\"\\nSubgraph 2:\")\n",
    "print(\"Nodes:\", set_b)\n",
    "print(\"Edges:\\n\", subgraph_2)\n"
   ]
  },
  {
   "cell_type": "code",
   "execution_count": 29,
   "metadata": {},
   "outputs": [
    {
     "data": {
      "image/png": "[encoded data removed]",
      "text/plain": [
       "<Figure size 432x432 with 1 Axes>"
      ]
     },
     "metadata": {},
     "output_type": "display_data"
    },
    {
     "ename": "TypeError",
     "evalue": "'module' object is not callable",
     "output_type": "error",
     "traceback": [
      "\u001b[0;31m---------------------------------------------------------------------------\u001b[0m",
      "\u001b[0;31mTypeError\u001b[0m                                 Traceback (most recent call last)",
      "\u001b[0;32m/var/folders/r6/0f88gc2d4n72g44xyxkb5bmr0000gn/T/ipykernel_20173/1568070245.py\u001b[0m in \u001b[0;36m<module>\u001b[0;34m\u001b[0m\n\u001b[1;32m     49\u001b[0m \u001b[0;34m\u001b[0m\u001b[0m\n\u001b[1;32m     50\u001b[0m     \u001b[0;32mif\u001b[0m \u001b[0mweight_diff_a\u001b[0m \u001b[0;34m<=\u001b[0m \u001b[0mweight_diff_b\u001b[0m\u001b[0;34m:\u001b[0m\u001b[0;34m\u001b[0m\u001b[0;34m\u001b[0m\u001b[0m\n\u001b[0;32m---> 51\u001b[0;31m         \u001b[0mtemp_graph\u001b[0m \u001b[0;34m=\u001b[0m \u001b[0mnx\u001b[0m\u001b[0;34m.\u001b[0m\u001b[0mgraph\u001b[0m\u001b[0;34m(\u001b[0m\u001b[0mset_a\u001b[0m\u001b[0;34m.\u001b[0m\u001b[0madd\u001b[0m\u001b[0;34m(\u001b[0m\u001b[0mnode\u001b[0m\u001b[0;34m)\u001b[0m\u001b[0;34m)\u001b[0m\u001b[0;34m\u001b[0m\u001b[0;34m\u001b[0m\u001b[0m\n\u001b[0m\u001b[1;32m     52\u001b[0m         \u001b[0;32mif\u001b[0m \u001b[0mtemp_graph\u001b[0m\u001b[0;34m.\u001b[0m\u001b[0mis_connected\u001b[0m\u001b[0;34m(\u001b[0m\u001b[0;34m)\u001b[0m\u001b[0;34m:\u001b[0m\u001b[0;34m\u001b[0m\u001b[0;34m\u001b[0m\u001b[0m\n\u001b[1;32m     53\u001b[0m             \u001b[0mset_a\u001b[0m\u001b[0;34m.\u001b[0m\u001b[0madd\u001b[0m\u001b[0;34m(\u001b[0m\u001b[0mnode\u001b[0m\u001b[0;34m)\u001b[0m\u001b[0;34m\u001b[0m\u001b[0;34m\u001b[0m\u001b[0m\n",
      "\u001b[0;31mTypeError\u001b[0m: 'module' object is not callable"
     ]
    }
   ],
   "source": [
    "import networkx as nx\n",
    "import matplotlib.pyplot as plt\n",
    "import numpy as np\n",
    "\n",
    "# Define the graph as an adjacency matrix\n",
    "adj_matrix = np.array([\n",
    "    [0, 1, 1, 0, 0],\n",
    "    [1, 0, 0, 0, 0],\n",
    "    [1, 0, 0, 1, 1],\n",
    "    [0, 0, 1, 0, 0],\n",
    "    [0, 0, 1, 0, 0]\n",
    "])\n",
    "\n",
    "# Define the node weights\n",
    "node_weights = [1, 3, 1, 2, 2]\n",
    "\n",
    "# Define the graph using NetworkX\n",
    "G = nx.convert_matrix.from_numpy_array(adj_matrix)\n",
    "\n",
    "# Set the node weights as node attributes\n",
    "node_weights_dict = {i: {'weight': node_weights[i]} for i in range(len(node_weights))}\n",
    "nx.set_node_attributes(G, node_weights_dict)\n",
    "\n",
    "# Draw the original graph\n",
    "plt.figure(figsize=(6,6))\n",
    "pos = nx.spring_layout(G)\n",
    "nx.draw_networkx_nodes(G, pos, node_size=500, node_color='lightblue')\n",
    "nx.draw_networkx_edges(G, pos, width=1)\n",
    "nx.draw_networkx_labels(G, pos)\n",
    "nx.draw_networkx_edge_labels(G, pos, edge_labels=nx.get_edge_attributes(G, 'weight'), font_size=10)\n",
    "plt.axis('off')\n",
    "plt.title(\"Original Graph\")\n",
    "plt.show()\n",
    "\n",
    "# Sort the nodes in descending order of their weights\n",
    "sorted_nodes = sorted(range(len(node_weights)), key=lambda i: node_weights[i], reverse=True)\n",
    "\n",
    "# Initialize sets A and B\n",
    "set_a = set([sorted_nodes[0]])\n",
    "set_b = set()\n",
    "\n",
    "# Iterate over the remaining nodes and assign them to set A or set B\n",
    "for node in sorted_nodes[1:]:\n",
    "    # Calculate the weight difference if we add the node to set A or set B\n",
    "    weight_diff_a = abs(sum([node_weights[i] for i in set_a]) + node_weights[node] - sum([node_weights[i] for i in set_b]))\n",
    "    weight_diff_b = abs(sum([node_weights[i] for i in set_b]) + node_weights[node] - sum([node_weights[i] for i in set_a]))\n",
    "    \n",
    "    # Assign the node to the set that results in the minimum weight difference\n",
    "    \n",
    "    if weight_diff_a <= weight_diff_b:\n",
    "        temp_graph = nx.graph(set_a.add(node))\n",
    "        if temp_graph.is_connected():    \n",
    "            set_a.add(node)\n",
    "    else:\n",
    "        set_b.add(node)\n",
    "\n",
    "# Build the subgraphs\n",
    "subgraph_1 = G.subgraph(set_a)\n",
    "subgraph_2 = G.subgraph(set_b)\n",
    "\n",
    "# Draw the subgraphs\n",
    "plt.figure(figsize=(12,6))\n",
    "\n",
    "# Draw subgraph 1\n",
    "plt.subplot(1, 2, 1)\n",
    "pos = nx.spring_layout(subgraph_1)\n",
    "nx.draw_networkx_nodes(subgraph_1, pos, node_size=500, node_color='lightblue')\n",
    "nx.draw_networkx_edges(subgraph_1, pos, width=1)\n",
    "nx.draw_networkx_labels(subgraph_1, pos)\n",
    "plt.axis('off')\n",
    "plt.title(\"Subgraph 1 (Nodes 2 and 3)\")\n",
    "\n",
    "# Draw subgraph 2\n",
    "plt.subplot(1, 2, 2)\n",
    "pos = nx.spring_layout(subgraph_2)\n",
    "nx.draw_networkx_nodes(subgraph_2, pos, node_size=500, node_color='red')\n",
    "nx.draw_networkx_edges(subgraph_2, pos, width=1)\n",
    "nx.draw_networkx_labels(subgraph_2, pos)\n",
    "plt.axis('off')\n",
    "plt.title(\"Subgraph 2 (Nodes 1,4 and 5)\")\n"
   ]
  }
 ],
 "metadata": {
  "kernelspec": {
   "display_name": "Python 3",
   "language": "python",
   "name": "python3"
  },
  "language_info": {
   "codemirror_mode": {
    "name": "ipython",
    "version": 3
   },
   "file_extension": ".py",
   "mimetype": "text/x-python",
   "name": "python",
   "nbconvert_exporter": "python",
   "pygments_lexer": "ipython3",
   "version": "3.9.16"
  },
  "orig_nbformat": 4
 },
 "nbformat": 4,
 "nbformat_minor": 2
}
