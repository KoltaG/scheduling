{
 "cells": [
  {
   "cell_type": "code",
   "execution_count": 2,
   "metadata": {},
   "outputs": [],
   "source": [
    "import math\n",
    "\n",
    "# Define the distance function\n",
    "def dist(u, v):\n",
    "    if u is None:\n",
    "        u = [0,0] \n",
    "    if v is None:\n",
    "        v = [0,0]\n",
    "       \n",
    "    return math.sqrt((u[0]-v[0])**2 + (u[1]-v[1])**2)\n",
    "\n",
    "\n"
   ]
  },
  {
   "cell_type": "code",
   "execution_count": 10,
   "metadata": {},
   "outputs": [
    {
     "name": "stdout",
     "output_type": "stream",
     "text": [
      "iteration 0\n",
      "iteration 1\n",
      "T [(1, 4), (2, 2)]\n",
      "T_dep [0, 1]\n"
     ]
    },
    {
     "ename": "TypeError",
     "evalue": "'int' object is not subscriptable",
     "output_type": "error",
     "traceback": [
      "\u001b[0;31m---------------------------------------------------------------------------\u001b[0m",
      "\u001b[0;31mTypeError\u001b[0m                                 Traceback (most recent call last)",
      "\u001b[0;32m/var/folders/r6/0f88gc2d4n72g44xyxkb5bmr0000gn/T/ipykernel_72770/3359020712.py\u001b[0m in \u001b[0;36m<module>\u001b[0;34m\u001b[0m\n\u001b[1;32m     78\u001b[0m \u001b[0;34m\u001b[0m\u001b[0m\n\u001b[1;32m     79\u001b[0m \u001b[0;32mif\u001b[0m \u001b[0m__name__\u001b[0m \u001b[0;34m==\u001b[0m \u001b[0;34m'__main__'\u001b[0m\u001b[0;34m:\u001b[0m\u001b[0;34m\u001b[0m\u001b[0;34m\u001b[0m\u001b[0m\n\u001b[0;32m---> 80\u001b[0;31m     \u001b[0mmain\u001b[0m\u001b[0;34m(\u001b[0m\u001b[0;34m)\u001b[0m\u001b[0;34m\u001b[0m\u001b[0;34m\u001b[0m\u001b[0m\n\u001b[0m",
      "\u001b[0;32m/var/folders/r6/0f88gc2d4n72g44xyxkb5bmr0000gn/T/ipykernel_72770/3359020712.py\u001b[0m in \u001b[0;36mmain\u001b[0;34m()\u001b[0m\n\u001b[1;32m     71\u001b[0m                 \u001b[0mT0_index\u001b[0m \u001b[0;34m=\u001b[0m \u001b[0ml\u001b[0m\u001b[0;34m\u001b[0m\u001b[0;34m\u001b[0m\u001b[0m\n\u001b[1;32m     72\u001b[0m         \u001b[0mT_dep_j\u001b[0m \u001b[0;34m=\u001b[0m \u001b[0mT\u001b[0m\u001b[0;34m[\u001b[0m\u001b[0;36m0\u001b[0m\u001b[0;34m]\u001b[0m\u001b[0;34m[\u001b[0m\u001b[0mT0_index\u001b[0m\u001b[0;34m]\u001b[0m\u001b[0;34m\u001b[0m\u001b[0;34m\u001b[0m\u001b[0m\n\u001b[0;32m---> 73\u001b[0;31m         \u001b[0mmax_latency\u001b[0m \u001b[0;34m=\u001b[0m \u001b[0mmax\u001b[0m\u001b[0;34m(\u001b[0m\u001b[0mmax_latency\u001b[0m\u001b[0;34m,\u001b[0m \u001b[0msingle_robot_schedule\u001b[0m\u001b[0;34m(\u001b[0m\u001b[0mT_j\u001b[0m\u001b[0;34m,\u001b[0m \u001b[0mT_dep_j\u001b[0m\u001b[0;34m)\u001b[0m\u001b[0;34m)\u001b[0m\u001b[0;34m\u001b[0m\u001b[0;34m\u001b[0m\u001b[0m\n\u001b[0m\u001b[1;32m     74\u001b[0m     \u001b[0;31m# Print the results\u001b[0m\u001b[0;34m\u001b[0m\u001b[0;34m\u001b[0m\u001b[0m\n\u001b[1;32m     75\u001b[0m     \u001b[0mprint\u001b[0m\u001b[0;34m(\u001b[0m\u001b[0;34m'Weights:'\u001b[0m\u001b[0;34m,\u001b[0m \u001b[0mW\u001b[0m\u001b[0;34m)\u001b[0m\u001b[0;34m\u001b[0m\u001b[0;34m\u001b[0m\u001b[0m\n",
      "\u001b[0;32m/var/folders/r6/0f88gc2d4n72g44xyxkb5bmr0000gn/T/ipykernel_72770/3359020712.py\u001b[0m in \u001b[0;36msingle_robot_schedule\u001b[0;34m(T, T_dep)\u001b[0m\n\u001b[1;32m     35\u001b[0m         \u001b[0;31m#w = T[i][1]\u001b[0m\u001b[0;34m\u001b[0m\u001b[0;34m\u001b[0m\u001b[0m\n\u001b[1;32m     36\u001b[0m         \u001b[0;31m#L = max(L, dist(T[i][T_dep[i]], T[i][0]) + w)\u001b[0m\u001b[0;34m\u001b[0m\u001b[0;34m\u001b[0m\u001b[0m\n\u001b[0;32m---> 37\u001b[0;31m         \u001b[0mw\u001b[0m \u001b[0;34m=\u001b[0m \u001b[0mT\u001b[0m\u001b[0;34m[\u001b[0m\u001b[0mi\u001b[0m\u001b[0;34m]\u001b[0m\u001b[0;34m[\u001b[0m\u001b[0;36m0\u001b[0m\u001b[0;34m]\u001b[0m\u001b[0;34m[\u001b[0m\u001b[0;36m1\u001b[0m\u001b[0;34m]\u001b[0m\u001b[0;34m\u001b[0m\u001b[0;34m\u001b[0m\u001b[0m\n\u001b[0m\u001b[1;32m     38\u001b[0m         \u001b[0mL\u001b[0m \u001b[0;34m=\u001b[0m \u001b[0mmax\u001b[0m\u001b[0;34m(\u001b[0m\u001b[0mL\u001b[0m\u001b[0;34m,\u001b[0m \u001b[0mdist\u001b[0m\u001b[0;34m(\u001b[0m\u001b[0mT\u001b[0m\u001b[0;34m[\u001b[0m\u001b[0mi\u001b[0m\u001b[0;34m]\u001b[0m\u001b[0;34m[\u001b[0m\u001b[0mT_dep\u001b[0m\u001b[0;34m[\u001b[0m\u001b[0mi\u001b[0m\u001b[0;34m]\u001b[0m\u001b[0;34m]\u001b[0m\u001b[0;34m,\u001b[0m \u001b[0mT\u001b[0m\u001b[0;34m[\u001b[0m\u001b[0mi\u001b[0m\u001b[0;34m]\u001b[0m\u001b[0;34m[\u001b[0m\u001b[0;36m0\u001b[0m\u001b[0;34m]\u001b[0m\u001b[0;34m)\u001b[0m \u001b[0;34m+\u001b[0m \u001b[0mw\u001b[0m\u001b[0;34m)\u001b[0m\u001b[0;34m\u001b[0m\u001b[0;34m\u001b[0m\u001b[0m\n\u001b[1;32m     39\u001b[0m \u001b[0;34m\u001b[0m\u001b[0m\n",
      "\u001b[0;31mTypeError\u001b[0m: 'int' object is not subscriptable"
     ]
    }
   ],
   "source": [
    "# Define the k-robot assignment algorithm\n",
    "def k_robot_assignment(W, L):\n",
    "    n = len(W)\n",
    "    k = len(W[0])\n",
    "    T = [[] for i in range(k)]\n",
    "    T_dep = [None for i in range(k)]\n",
    "    x_dep = [None for i in range(k)]\n",
    "    for i in range(n):\n",
    "        w = W[i]\n",
    "        min_cost = float('inf')\n",
    "        min_j = None\n",
    "        for j in range(k):\n",
    "            cost = dist(w, x_dep[j]) + L\n",
    "            if cost < min_cost:\n",
    "                min_cost = cost\n",
    "                min_j = j\n",
    "        T[min_j].append(i)\n",
    "\n",
    "        if T_dep[min_j] is None or w[1] > W[T_dep[min_j]][1]:\n",
    "            T_dep[min_j] = len(T[min_j])-1\n",
    "            x_dep[min_j] = w\n",
    "    for j in range(k):\n",
    "        if T_dep[j] is None:\n",
    "            return False\n",
    "        T_dep[j] = T[j][T_dep[j]]\n",
    "    return T, T_dep, x_dep\n",
    "\n",
    "# Define the single-robot schedule algorithm\n",
    "def single_robot_schedule(T, T_dep):\n",
    "    n = len(T)\n",
    "    L = 0\n",
    "    print(\"T\", T)\n",
    "    print(\"T_dep\", T_dep)\n",
    "    for i in range(n):\n",
    "        w = T[i][1]\n",
    "        #L = max(L, dist(T[i][T_dep[i]], T[i][0]) + w)\n",
    "        #w = T[i][0][1]\n",
    "        L = max(L, dist(T[i][T_dep[i]], T[i][0]) + w)\n",
    "\n",
    "    return L\n",
    "\n",
    "# Define the main function\n",
    "def main():\n",
    "    # Define the weights of the nodes\n",
    "    W = [(1, 3), (2, 2), (3, 1), (4, 2), (5, 3)]\n",
    "    # Define the number of robots\n",
    "    k = 2\n",
    "    # Compute the smallest and largest weights\n",
    "    w_min = min(W, key=lambda x: x[1])[1]\n",
    "    w_max = max(W, key=lambda x: x[1])[1]\n",
    "    # Compute the value of m\n",
    "    m = math.log2(w_max/w_min)\n",
    "    # Round the weights to the nearest dyadic value\n",
    "    W = [(w[0], 2**math.ceil(math.log2(w[1]))) for w in W]\n",
    "    # Run the k-robot assignment algorithm\n",
    "    L = 6 # Guess an upper bound for the optimal maximum weighted latency\n",
    "    T = None\n",
    "    while T is None:\n",
    "        T = k_robot_assignment(W, L)\n",
    "        if T is None:\n",
    "            L *= 2\n",
    "    # Compute the maximum weighted latency of the schedule\n",
    "    max_latency = 0\n",
    "    for j in range(k):\n",
    "        T_j = [W[i] for i in T[0][j]]\n",
    "        T_dep_j = T[1][j]\n",
    "        T0_index = None\n",
    "        for l in range(len(T[0])):\n",
    "            print('iteration',l)\n",
    "            if T[1][j] in T[0][l]:\n",
    "                T0_index = l\n",
    "        T_dep_j = T[0][T0_index]  \n",
    "        max_latency = max(max_latency, single_robot_schedule(T_j, T_dep_j))\n",
    "    # Print the results\n",
    "    print('Weights:', W)\n",
    "    print('Number of robots:', k)\n",
    "    print('Maximum weighted latency:', max_latency)\n",
    "\n",
    "if __name__ == '__main__':\n",
    "    main()\n"
   ]
  }
 ],
 "metadata": {
  "kernelspec": {
   "display_name": "Python 3",
   "language": "python",
   "name": "python3"
  },
  "language_info": {
   "codemirror_mode": {
    "name": "ipython",
    "version": 3
   },
   "file_extension": ".py",
   "mimetype": "text/x-python",
   "name": "python",
   "nbconvert_exporter": "python",
   "pygments_lexer": "ipython3",
   "version": "3.9.16"
  },
  "orig_nbformat": 4
 },
 "nbformat": 4,
 "nbformat_minor": 2
}
